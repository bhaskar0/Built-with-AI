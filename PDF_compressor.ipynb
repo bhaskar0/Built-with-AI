{
  "nbformat": 4,
  "nbformat_minor": 0,
  "metadata": {
    "colab": {
      "provenance": [],
      "authorship_tag": "ABX9TyP6esB+6mHJlL7jcwRVZfwJ",
      "include_colab_link": true
    },
    "kernelspec": {
      "name": "python3",
      "display_name": "Python 3"
    },
    "language_info": {
      "name": "python"
    }
  },
  "cells": [
    {
      "cell_type": "markdown",
      "metadata": {
        "id": "view-in-github",
        "colab_type": "text"
      },
      "source": [
        "<a href=\"https://colab.research.google.com/github/bhaskar0/Built-with-AI/blob/main/PDF_compressor.ipynb\" target=\"_parent\"><img src=\"https://colab.research.google.com/assets/colab-badge.svg\" alt=\"Open In Colab\"/></a>"
      ]
    },
    {
      "cell_type": "code",
      "execution_count": 7,
      "metadata": {
        "colab": {
          "base_uri": "https://localhost:8080/"
        },
        "id": "fnOzlhxFV3iY",
        "outputId": "02a6322c-7ce9-4e99-9530-e84f38e433a2"
      },
      "outputs": [
        {
          "output_type": "stream",
          "name": "stdout",
          "text": [
            "Requirement already satisfied: PyPDF2 in /usr/local/lib/python3.10/dist-packages (3.0.1)\n"
          ]
        }
      ],
      "source": [
        "!pip install PyPDF2"
      ]
    },
    {
      "cell_type": "code",
      "source": [
        "import os\n",
        "from PyPDF2 import PdfReader, PdfWriter\n",
        "\n",
        "def compress_pdf(input_path, output_path):\n",
        "    \"\"\"\n",
        "    Compress a PDF file.\n",
        "\n",
        "    :param input_path: Path to the input PDF file\n",
        "    :param output_path: Path to save the compressed PDF file\n",
        "    \"\"\"\n",
        "    reader = PdfReader(input_path)\n",
        "    writer = PdfWriter()\n",
        "\n",
        "    for page in reader.pages:\n",
        "        page.compress_content_streams()  # This line compresses the page\n",
        "        writer.add_page(page)\n",
        "\n",
        "    # Save the compressed PDF\n",
        "    with open(output_path, 'wb') as output_file:\n",
        "        writer.write(output_file)\n",
        "\n",
        "def get_file_size(file_path):\n",
        "    \"\"\"Get the size of a file in bytes.\"\"\"\n",
        "    return os.path.getsize(file_path)\n",
        "\n",
        "def main():\n",
        "    input_path = input(\"Enter the path to the input PDF file: \")\n",
        "    output_path = input(\"Enter the path to save the compressed PDF file: \")\n",
        "\n",
        "    if not os.path.exists(input_path):\n",
        "        print(f\"Error: The file '{input_path}' does not exist.\")\n",
        "        return\n",
        "\n",
        "    original_size = get_file_size(input_path)\n",
        "\n",
        "    try:\n",
        "        compress_pdf(input_path, output_path)\n",
        "        compressed_size = get_file_size(output_path)\n",
        "\n",
        "        print(f\"\\nOriginal size: {original_size:,} bytes\")\n",
        "        print(f\"Compressed size: {compressed_size:,} bytes\")\n",
        "        print(f\"Compression ratio: {original_size / compressed_size:.2f}x\")\n",
        "        print(f\"Space saved: {(1 - compressed_size / original_size) * 100:.2f}%\")\n",
        "    except Exception as e:\n",
        "        print(f\"An error occurred: {str(e)}\")\n",
        "\n",
        "if __name__ == \"__main__\":\n",
        "    main()"
      ],
      "metadata": {
        "colab": {
          "base_uri": "https://localhost:8080/"
        },
        "id": "gqqT8Kb2cLR0",
        "outputId": "5a8fac81-735c-4b42-86c8-567c368b092a"
      },
      "execution_count": 10,
      "outputs": [
        {
          "output_type": "stream",
          "name": "stdout",
          "text": [
            "Enter the path to the input PDF file: /content/Bhaskar_Aug2024.pdf\n",
            "Enter the path to save the compressed PDF file: /content/Bhaskar_Aug2024_1.pdf\n",
            "\n",
            "Original size: 268,650 bytes\n",
            "Compressed size: 259,217 bytes\n",
            "Compression ratio: 1.04x\n",
            "Space saved: 3.51%\n"
          ]
        }
      ]
    }
  ]
}